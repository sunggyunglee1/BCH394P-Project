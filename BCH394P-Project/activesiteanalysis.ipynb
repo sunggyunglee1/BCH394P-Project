{
 "cells": [
  {
   "cell_type": "code",
   "execution_count": 9,
   "id": "7144ad02",
   "metadata": {},
   "outputs": [
    {
     "name": "stdout",
     "output_type": "stream",
     "text": [
      "Output saved to 'amino_acid_frequency.txt'\n"
     ]
    }
   ],
   "source": [
    "import pandas as pd\n",
    "\n",
    "# Load the Excel file into a DataFrame\n",
    "df = pd.read_excel('withseq_ph_frequencies_nearest.xlsx')\n",
    "\n",
    "# Define a function to count the frequency of amino acids\n",
    "def count_amino_acids(sequence):\n",
    "    # Initialize a dictionary to store the frequency of each amino acid\n",
    "    amino_acid_freq = {}\n",
    "    \n",
    "    # Check for NaN values\n",
    "    if pd.isna(sequence):\n",
    "        return amino_acid_freq\n",
    "    \n",
    "    # Iterate over each amino acid in the sequence\n",
    "    for amino_acid in str(sequence).split(','):\n",
    "        # Remove whitespace and convert to uppercase for consistency\n",
    "        amino_acid = amino_acid.strip().upper()\n",
    "        \n",
    "        # If the amino acid already exists in the dictionary, increment its count\n",
    "        if amino_acid in amino_acid_freq:\n",
    "            amino_acid_freq[amino_acid] += 1\n",
    "        # If it's a new amino acid, add it to the dictionary with count 1\n",
    "        else:\n",
    "            amino_acid_freq[amino_acid] = 1\n",
    "    \n",
    "    return amino_acid_freq\n",
    "\n",
    "# Create an empty list to store individual frequency DataFrames\n",
    "individual_frequency_dfs = []\n",
    "\n",
    "# Loop through each row of the DataFrame\n",
    "for index, row in df.iterrows():\n",
    "    # Apply the function to the 6th column of the current row\n",
    "    amino_acid_freq = count_amino_acids(row[5])\n",
    "    \n",
    "    # Convert the dictionary to a DataFrame\n",
    "    frequency_df = pd.DataFrame(list(amino_acid_freq.items()), columns=['Amino Acid', 'Frequency'])\n",
    "    \n",
    "    # Add a column for the row index\n",
    "    frequency_df['Row'] = index\n",
    "    \n",
    "    # Append the DataFrame to the list\n",
    "    individual_frequency_dfs.append(frequency_df)\n",
    "\n",
    "# Concatenate all individual frequency DataFrames into a single DataFrame\n",
    "final_frequency_df = pd.concat(individual_frequency_dfs, ignore_index=True)\n",
    "\n",
    "# Write the DataFrame to a text file\n",
    "final_frequency_df.to_csv('amino_acid_frequency.txt', sep='\\t', index=False)\n",
    "\n",
    "print(\"Output saved to 'amino_acid_frequency.txt'\")"
   ]
  },
  {
   "cell_type": "code",
   "execution_count": 13,
   "id": "e02e7df6",
   "metadata": {},
   "outputs": [
    {
     "name": "stdout",
     "output_type": "stream",
     "text": [
      "Output saved to 'amino_acid_counts.xlsx'\n"
     ]
    }
   ],
   "source": [
    "import pandas as pd\n",
    "\n",
    "# Load the previously generated DataFrame containing amino acid frequencies\n",
    "final_frequency_df = pd.read_csv('amino_acid_frequency.txt', sep='\\t')\n",
    "\n",
    "# Pivot the DataFrame to rearrange the data as desired\n",
    "pivot_df = final_frequency_df.pivot(index='Row', columns='Amino Acid', values='Frequency').fillna(0)\n",
    "\n",
    "# Convert column labels to strings and then reorder columns to be sorted alphabetically\n",
    "pivot_df.columns = pivot_df.columns.astype(str)\n",
    "pivot_df = pivot_df.reindex(sorted(pivot_df.columns), axis=1)\n",
    "\n",
    "# Write the DataFrame to an Excel file\n",
    "pivot_df.to_excel('amino_acid_counts.xlsx', index=True)\n",
    "\n",
    "print(\"Output saved to 'amino_acid_counts.xlsx'\")"
   ]
  },
  {
   "cell_type": "code",
   "execution_count": null,
   "id": "248ab0cf",
   "metadata": {},
   "outputs": [],
   "source": []
  }
 ],
 "metadata": {
  "kernelspec": {
   "display_name": "Python 3 (ipykernel)",
   "language": "python",
   "name": "python3"
  },
  "language_info": {
   "codemirror_mode": {
    "name": "ipython",
    "version": 3
   },
   "file_extension": ".py",
   "mimetype": "text/x-python",
   "name": "python",
   "nbconvert_exporter": "python",
   "pygments_lexer": "ipython3",
   "version": "3.11.5"
  }
 },
 "nbformat": 4,
 "nbformat_minor": 5
}
